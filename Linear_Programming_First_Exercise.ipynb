{
  "nbformat": 4,
  "nbformat_minor": 0,
  "metadata": {
    "colab": {
      "provenance": []
    },
    "kernelspec": {
      "name": "python3",
      "display_name": "Python 3"
    },
    "language_info": {
      "name": "python"
    }
  },
  "cells": [
    {
      "cell_type": "markdown",
      "source": [
        "#Introduction to Linear Programming\n"
      ],
      "metadata": {
        "id": "14B28B5qKG2R"
      }
    },
    {
      "cell_type": "code",
      "source": [
        "from prettytable import PrettyTable as pt"
      ],
      "metadata": {
        "id": "aKlqkjZ7KlMS"
      },
      "execution_count": 1,
      "outputs": []
    },
    {
      "cell_type": "code",
      "source": [
        "tb=pt()\n",
        "\n",
        "#adding headers\n",
        "tb.field_names=['Unit','Food','Wood','Gold','Power']\n",
        "\n",
        "#adding rows\n",
        "tb.add_row(['Swordsman',60,20,0,70])\n",
        "tb.add_row(['Bowman',80,10,40,95])\n",
        "tb.add_row(['Horseman',140,0,100,230])\n",
        "\n",
        "print(tb)"
      ],
      "metadata": {
        "colab": {
          "base_uri": "https://localhost:8080/"
        },
        "id": "5qQsGC2dRPdm",
        "outputId": "631535b4-f4ec-4ac6-90c6-4e1dda0712e2"
      },
      "execution_count": 2,
      "outputs": [
        {
          "output_type": "stream",
          "name": "stdout",
          "text": [
            "+-----------+------+------+------+-------+\n",
            "|    Unit   | Food | Wood | Gold | Power |\n",
            "+-----------+------+------+------+-------+\n",
            "| Swordsman |  60  |  20  |  0   |   70  |\n",
            "|   Bowman  |  80  |  10  |  40  |   95  |\n",
            "|  Horseman | 140  |  0   | 100  |  230  |\n",
            "+-----------+------+------+------+-------+\n"
          ]
        }
      ]
    },
    {
      "cell_type": "markdown",
      "source": [
        "**Question**\n",
        "\n",
        "\n",
        "*   How should we maximize the power of our army ?\n",
        "\n"
      ],
      "metadata": {
        "id": "mktNIKkkTP6Q"
      }
    },
    {
      "cell_type": "code",
      "source": [
        "!pip install pulp"
      ],
      "metadata": {
        "colab": {
          "base_uri": "https://localhost:8080/"
        },
        "id": "hVvpdxc6TKqj",
        "outputId": "e410a25b-1e59-4ea9-a2da-2655f51d87c6"
      },
      "execution_count": 3,
      "outputs": [
        {
          "output_type": "stream",
          "name": "stdout",
          "text": [
            "Looking in indexes: https://pypi.org/simple, https://us-python.pkg.dev/colab-wheels/public/simple/\n",
            "Collecting pulp\n",
            "  Downloading PuLP-2.7.0-py3-none-any.whl (14.3 MB)\n",
            "\u001b[2K     \u001b[90m━━━━━━━━━━━━━━━━━━━━━━━━━━━━━━━━━━━━━━━━\u001b[0m \u001b[32m14.3/14.3 MB\u001b[0m \u001b[31m36.3 MB/s\u001b[0m eta \u001b[36m0:00:00\u001b[0m\n",
            "\u001b[?25hInstalling collected packages: pulp\n",
            "Successfully installed pulp-2.7.0\n"
          ]
        }
      ]
    },
    {
      "cell_type": "code",
      "source": [
        "import pulp as pl\n",
        "import numpy as np"
      ],
      "metadata": {
        "id": "6ztam3PufrDV"
      },
      "execution_count": 4,
      "outputs": []
    },
    {
      "cell_type": "code",
      "source": [
        "#(60*swordsman)+(80*bowman)+(horseman*140)<=1200\n",
        "#(20*swordsman)+(10*bowman)<=800\n",
        "#(40*bowman)+(horseman*100)<=600\n",
        "#x,y>=0\n",
        "\n",
        "#objective function:\n",
        "#(70*swordman)+(95*bowman)+(230*horseman)"
      ],
      "metadata": {
        "id": "a0KhzhnilCP_"
      },
      "execution_count": 5,
      "outputs": []
    },
    {
      "cell_type": "code",
      "source": [
        "#create variables\n",
        "model=pl.LpProblem('PowerMaximize',pl.LpMaximize)\n",
        "s=pl.LpVariable('Swordsman',lowBound=0,cat=const.LpInteger,e=None)\n",
        "b=pl.LpVariable('Bowman',lowBound=0,cat=const.LpInteger,e=None)\n",
        "h=pl.LpVariable('Horseman',lowBound=0,cat=const.LpInteger,e=None)"
      ],
      "metadata": {
        "id": "-3Zw7wtbf0kV"
      },
      "execution_count": 29,
      "outputs": []
    },
    {
      "cell_type": "code",
      "source": [
        "#define objective\n",
        "model += (70*s)+(95*b)+(230*h)"
      ],
      "metadata": {
        "id": "6zOo61bxwMR5"
      },
      "execution_count": 30,
      "outputs": []
    },
    {
      "cell_type": "code",
      "source": [
        "#create constraint\n",
        "model += (60*s)+(80*b)+(140*h)<=1200, 'Food'\n",
        "model += (20*s)+(10*b)<=800,'Wood'\n",
        "model += (40*b)+(100*h)<=600,'Gold'"
      ],
      "metadata": {
        "id": "BVWE3M9QxQEC"
      },
      "execution_count": 31,
      "outputs": []
    },
    {
      "cell_type": "code",
      "source": [
        "model.solve()\n",
        "\n",
        "for v in model.variables():\n",
        "  print(v.name,'=',v.varValue)"
      ],
      "metadata": {
        "colab": {
          "base_uri": "https://localhost:8080/"
        },
        "id": "t8IiJ7SEzQ_o",
        "outputId": "f804c3a8-d007-47c4-bbf9-08c9d8894b12"
      },
      "execution_count": 33,
      "outputs": [
        {
          "output_type": "stream",
          "name": "stdout",
          "text": [
            "Bowman = 0.0\n",
            "Horseman = 6.0\n",
            "Swordsman = 6.0\n"
          ]
        }
      ]
    }
  ]
}