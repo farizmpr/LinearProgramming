{
  "nbformat": 4,
  "nbformat_minor": 0,
  "metadata": {
    "colab": {
      "provenance": []
    },
    "kernelspec": {
      "name": "python3",
      "display_name": "Python 3"
    },
    "language_info": {
      "name": "python"
    }
  },
  "cells": [
    {
      "cell_type": "code",
      "execution_count": null,
      "metadata": {
        "id": "HK6uEnJhWij7"
      },
      "outputs": [],
      "source": [
        "#question\n",
        "maximize=> z=5x+10y\n",
        "\n",
        "Constraint:\n",
        "1x+2y<=120\n",
        "x+y>=60\n",
        "x-2y>=0"
      ]
    },
    {
      "cell_type": "code",
      "source": [
        "!pip install pulp\n",
        "import pulp as pl"
      ],
      "metadata": {
        "colab": {
          "base_uri": "https://localhost:8080/"
        },
        "id": "bgorQxZgYoKn",
        "outputId": "ac83c521-2d23-4e09-d78d-dbf6ebae25ed"
      },
      "execution_count": 2,
      "outputs": [
        {
          "output_type": "stream",
          "name": "stdout",
          "text": [
            "Looking in indexes: https://pypi.org/simple, https://us-python.pkg.dev/colab-wheels/public/simple/\n",
            "Collecting pulp\n",
            "  Downloading PuLP-2.7.0-py3-none-any.whl (14.3 MB)\n",
            "\u001b[2K     \u001b[90m━━━━━━━━━━━━━━━━━━━━━━━━━━━━━━━━━━━━━━━━\u001b[0m \u001b[32m14.3/14.3 MB\u001b[0m \u001b[31m82.4 MB/s\u001b[0m eta \u001b[36m0:00:00\u001b[0m\n",
            "\u001b[?25hInstalling collected packages: pulp\n",
            "Successfully installed pulp-2.7.0\n"
          ]
        }
      ]
    },
    {
      "cell_type": "code",
      "source": [
        "from pulp.apis.core import const\n",
        "#define variables\n",
        "x=pl.LpVariable(\"x\",lowBound=None,upBound=None,cat=const.LpContinuous,e=None)\n",
        "y=pl.LpVariable(\"y\",lowBound=None,upBound=None,cat=const.LpContinuous,e=None)"
      ],
      "metadata": {
        "id": "urGJPq25Yqiz"
      },
      "execution_count": 6,
      "outputs": []
    },
    {
      "cell_type": "code",
      "source": [
        "#objective function\n",
        "max_z=pl.LpProblem('EasyProblem',pl.LpMaximize)"
      ],
      "metadata": {
        "id": "wyQMU4YNauMw"
      },
      "execution_count": 9,
      "outputs": []
    },
    {
      "cell_type": "code",
      "source": [
        "#constraint\n",
        "max_z += (5*x)+(10*y)\n",
        "max_z += (1*x)+(2*y)<=120\n",
        "max_z += x+y>=60\n",
        "max_z += x-(2*y)>=0"
      ],
      "metadata": {
        "colab": {
          "base_uri": "https://localhost:8080/"
        },
        "id": "3JdofSk0eUFm",
        "outputId": "e3f32aab-c450-441e-b7e0-61c4c6033a2c"
      },
      "execution_count": 12,
      "outputs": [
        {
          "output_type": "stream",
          "name": "stderr",
          "text": [
            "/usr/local/lib/python3.9/dist-packages/pulp/pulp.py:1704: UserWarning: Overwriting previously set objective.\n",
            "  warnings.warn(\"Overwriting previously set objective.\")\n"
          ]
        }
      ]
    },
    {
      "cell_type": "code",
      "source": [
        "print(max_z)"
      ],
      "metadata": {
        "colab": {
          "base_uri": "https://localhost:8080/"
        },
        "id": "lWom2J3rfKWD",
        "outputId": "175d37ca-0ba2-493e-ca60-bf436eaa7eaa"
      },
      "execution_count": 13,
      "outputs": [
        {
          "output_type": "stream",
          "name": "stdout",
          "text": [
            "EasyProblem:\n",
            "MAXIMIZE\n",
            "5*x + 10*y + 0\n",
            "SUBJECT TO\n",
            "_C1: x + 2 y <= 120\n",
            "\n",
            "_C2: x + y >= 60\n",
            "\n",
            "_C3: x - 2 y >= 0\n",
            "\n",
            "VARIABLES\n",
            "x free Continuous\n",
            "y free Continuous\n",
            "\n"
          ]
        }
      ]
    },
    {
      "cell_type": "code",
      "source": [
        "pl.LpStatus[max_z.status]"
      ],
      "metadata": {
        "colab": {
          "base_uri": "https://localhost:8080/",
          "height": 35
        },
        "id": "615Yy91Rh8eK",
        "outputId": "277660ba-54a6-4b84-ff8c-7a388e8a336e"
      },
      "execution_count": 22,
      "outputs": [
        {
          "output_type": "execute_result",
          "data": {
            "text/plain": [
              "'Not Solved'"
            ],
            "application/vnd.google.colaboratory.intrinsic+json": {
              "type": "string"
            }
          },
          "metadata": {},
          "execution_count": 22
        }
      ]
    },
    {
      "cell_type": "code",
      "source": [
        "#solving function\n",
        "max_z.solve()"
      ],
      "metadata": {
        "colab": {
          "base_uri": "https://localhost:8080/"
        },
        "id": "gQILCtKbi-VX",
        "outputId": "78c6015d-c672-40fc-c173-aeb54a296b1a"
      },
      "execution_count": 24,
      "outputs": [
        {
          "output_type": "execute_result",
          "data": {
            "text/plain": [
              "1"
            ]
          },
          "metadata": {},
          "execution_count": 24
        }
      ]
    },
    {
      "cell_type": "code",
      "source": [
        "pl.LpStatus[max_z.status]"
      ],
      "metadata": {
        "colab": {
          "base_uri": "https://localhost:8080/",
          "height": 35
        },
        "id": "UI1hdiSjjHZ6",
        "outputId": "f7e5290e-4cdc-4497-8a74-9cab437ad2c7"
      },
      "execution_count": 25,
      "outputs": [
        {
          "output_type": "execute_result",
          "data": {
            "text/plain": [
              "'Optimal'"
            ],
            "application/vnd.google.colaboratory.intrinsic+json": {
              "type": "string"
            }
          },
          "metadata": {},
          "execution_count": 25
        }
      ]
    },
    {
      "cell_type": "code",
      "source": [
        "# first solution step\n",
        "print(x.varValue)\n",
        "print(y.varValue)"
      ],
      "metadata": {
        "colab": {
          "base_uri": "https://localhost:8080/"
        },
        "id": "1jWTHwxzfj_g",
        "outputId": "70fec97f-117a-4739-b977-5420fe6c8e21"
      },
      "execution_count": 26,
      "outputs": [
        {
          "output_type": "stream",
          "name": "stdout",
          "text": [
            "60.0\n",
            "30.0\n"
          ]
        }
      ]
    },
    {
      "cell_type": "code",
      "source": [
        "#second solution step\n",
        "for var in max_z.variables():\n",
        "  print(var.name,' = ', var.varValue)"
      ],
      "metadata": {
        "colab": {
          "base_uri": "https://localhost:8080/"
        },
        "id": "03vacWrFjO8p",
        "outputId": "2c6987f3-aad5-4e3d-cdf4-e82dc737a9a1"
      },
      "execution_count": 39,
      "outputs": [
        {
          "output_type": "stream",
          "name": "stdout",
          "text": [
            "x  =  60.0\n",
            "y  =  30.0\n"
          ]
        }
      ]
    }
  ]
}