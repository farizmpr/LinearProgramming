{
  "nbformat": 4,
  "nbformat_minor": 0,
  "metadata": {
    "colab": {
      "provenance": []
    },
    "kernelspec": {
      "name": "python3",
      "display_name": "Python 3"
    },
    "language_info": {
      "name": "python"
    }
  },
  "cells": [
    {
      "cell_type": "markdown",
      "source": [],
      "metadata": {
        "id": "OZ9_M1KAoALq"
      }
    },
    {
      "cell_type": "markdown",
      "source": [
        "A company makes two products ( x and y) using two machines (a and b). each unit of x that is produced requires 50 minutes processing time on machine a and 30 minutes processing time on machine b. each unit of y that is produced requires 24 minutes processing time on machine a and 33 minutes processing time on machine b.\n",
        "\n",
        "at the start of the current week there are 30 units of x and 90 units of y in stock. available processing time on machine a is forecast to be 40 hours and on machine b is forecast to be 35 hours.\n",
        "\n",
        "the demand for x in the current week is forecast to be 75 units and for y is forecast to be 95 units. company policy is to maximise the combined sum of the units of x and the units of y in stock at the end of the week.\n",
        "\n",
        "formulate the problem of deciding how much of each product to make in the current week as a linear program. solve this!"
      ],
      "metadata": {
        "id": "_m-ZJqzZoRwp"
      }
    },
    {
      "cell_type": "code",
      "source": [
        "#machines:\n",
        "#a\n",
        "#b\n",
        "\n",
        "#variables:\n",
        "#x\n",
        "#y\n",
        "\n",
        "#constraints:\n",
        "# 50*x + 24*y <= 40\n",
        "# 30*x + 33*y <= 35\n",
        "\n",
        "#objective function:\n",
        "# x+y=(75-30)+(95-90)\n",
        "# x+y= 45+ 5\n",
        "#x+y-50"
      ],
      "metadata": {
        "id": "g37b8y63p4mK"
      },
      "execution_count": null,
      "outputs": []
    },
    {
      "cell_type": "code",
      "source": [
        "!pip install pulp\n",
        "import pulp as pl"
      ],
      "metadata": {
        "colab": {
          "base_uri": "https://localhost:8080/"
        },
        "id": "SIG_yNSXtOPu",
        "outputId": "b1761cd6-a4fd-4ecb-82fd-c0cc22b65f56"
      },
      "execution_count": 3,
      "outputs": [
        {
          "output_type": "stream",
          "name": "stdout",
          "text": [
            "Looking in indexes: https://pypi.org/simple, https://us-python.pkg.dev/colab-wheels/public/simple/\n",
            "Requirement already satisfied: pulp in /usr/local/lib/python3.9/dist-packages (2.7.0)\n"
          ]
        }
      ]
    },
    {
      "cell_type": "code",
      "source": [
        "from pulp.apis.core import const\n",
        "#define variables\n",
        "x=pl.LpVariable('x',lowBound=None, upBound=None,cat=const.LpContinuous,e=None)\n",
        "y=pl.LpVariable('y',lowBound=None, upBound=None,cat=const.LpContinuous,e=None)"
      ],
      "metadata": {
        "id": "7XSrSFdOuilz"
      },
      "execution_count": 4,
      "outputs": []
    },
    {
      "cell_type": "code",
      "source": [
        "#define objective function\n",
        "product_z= pl.LpProblem(\"Maximize_Product\",pl.LpMaximize)\n",
        "product_z += x+y-50"
      ],
      "metadata": {
        "id": "2sg4TFZTusQ7"
      },
      "execution_count": 18,
      "outputs": []
    },
    {
      "cell_type": "code",
      "source": [
        "#constraint\n",
        "product_z += (50*x) + (24*y) <= 40*60\n",
        "product_z += (30*x) + (33*y) <= 35*60\n",
        "product_z += x>=45\n",
        "product_z += y>=5"
      ],
      "metadata": {
        "id": "ZYK86Paovrwa"
      },
      "execution_count": 19,
      "outputs": []
    },
    {
      "cell_type": "code",
      "source": [
        "product_z.solve()\n",
        "\n",
        "for var in product_z.variables():\n",
        "  print(var.name,\" = \", var.varValue)"
      ],
      "metadata": {
        "colab": {
          "base_uri": "https://localhost:8080/"
        },
        "id": "f-MbGn_FwV9t",
        "outputId": "d9e82e6a-3ef9-4498-cefa-f560b21bd9ed"
      },
      "execution_count": 20,
      "outputs": [
        {
          "output_type": "stream",
          "name": "stdout",
          "text": [
            "x  =  45.0\n",
            "y  =  6.25\n"
          ]
        }
      ]
    }
  ]
}